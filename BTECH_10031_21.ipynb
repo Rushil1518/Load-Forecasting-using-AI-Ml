{
  "cells": [
    {
      "cell_type": "code",
      "execution_count": 20,
      "metadata": {
        "id": "utH-bPVSG-p_"
      },
      "outputs": [],
      "source": [
        "import pandas as pd\n",
        "from sklearn.model_selection import train_test_split\n",
        "from sklearn.linear_model import LinearRegression\n",
        "from sklearn.metrics import mean_squared_error\n",
        "from sklearn.preprocessing import LabelEncoder\n",
        "import matplotlib.pyplot as plt\n",
        "\n",
        "# Load the dataset\n",
        "df = pd.read_csv(\"/content/continuous dataset.csv\")\n"
      ]
    },
    {
      "cell_type": "code",
      "execution_count": 21,
      "metadata": {
        "colab": {
          "base_uri": "https://localhost:8080/"
        },
        "id": "nKU--RoOG-rl",
        "outputId": "4ae11e96-b698-454c-8aa9-eaadcebfa546"
      },
      "outputs": [
        {
          "name": "stdout",
          "output_type": "stream",
          "text": [
            "<class 'pandas.core.frame.DataFrame'>\n",
            "RangeIndex: 48048 entries, 0 to 48047\n",
            "Data columns (total 17 columns):\n",
            " #   Column      Non-Null Count  Dtype  \n",
            "---  ------      --------------  -----  \n",
            " 0   datetime    48048 non-null  object \n",
            " 1   nat_demand  48048 non-null  float64\n",
            " 2   T2M_toc     48048 non-null  float64\n",
            " 3   QV2M_toc    48048 non-null  float64\n",
            " 4   TQL_toc     48048 non-null  float64\n",
            " 5   W2M_toc     48048 non-null  float64\n",
            " 6   T2M_san     48048 non-null  float64\n",
            " 7   QV2M_san    48048 non-null  float64\n",
            " 8   TQL_san     48048 non-null  float64\n",
            " 9   W2M_san     48048 non-null  float64\n",
            " 10  T2M_dav     48048 non-null  float64\n",
            " 11  QV2M_dav    48048 non-null  float64\n",
            " 12  TQL_dav     48048 non-null  float64\n",
            " 13  W2M_dav     48048 non-null  float64\n",
            " 14  Holiday_ID  48048 non-null  int64  \n",
            " 15  holiday     48048 non-null  int64  \n",
            " 16  school      48048 non-null  int64  \n",
            "dtypes: float64(13), int64(3), object(1)\n",
            "memory usage: 6.2+ MB\n"
          ]
        }
      ],
      "source": [
        "df.info()"
      ]
    },
    {
      "cell_type": "code",
      "execution_count": null,
      "metadata": {
        "id": "5s-diDzLG-u9"
      },
      "outputs": [],
      "source": [
        "df.head()"
      ]
    },
    {
      "cell_type": "code",
      "execution_count": null,
      "metadata": {
        "id": "iudy5zUDG-y1"
      },
      "outputs": [],
      "source": [
        "# Convert 'datetime' to numeric format\n",
        "df['datetime'] = pd.to_datetime(df['datetime'])\n",
        "df['datetime'] = df['datetime'].map(pd.Timestamp.timestamp)"
      ]
    },
    {
      "cell_type": "code",
      "execution_count": null,
      "metadata": {
        "id": "HVTxYzzMG-2f"
      },
      "outputs": [],
      "source": [
        "# Apply label encoding to 'holiday' and 'school'\n",
        "le = LabelEncoder()\n",
        "df['holiday'] = le.fit_transform(df['holiday'])\n",
        "df['school'] = le.fit_transform(df['school'])"
      ]
    },
    {
      "cell_type": "code",
      "execution_count": null,
      "metadata": {
        "id": "aeejB1DaG-49"
      },
      "outputs": [],
      "source": [
        "# 'nat_demand' is the target variable and the rest are features\n",
        "X = df.drop('nat_demand', axis=1)\n",
        "y = df['nat_demand']"
      ]
    },
    {
      "cell_type": "markdown",
      "metadata": {
        "id": "XrKicjLSgSl9"
      },
      "source": [
        "1. Random Forest Model( Best Performance ) >>>>\n"
      ]
    },
    {
      "cell_type": "code",
      "execution_count": null,
      "metadata": {
        "id": "dtxRFanCG_Ft"
      },
      "outputs": [],
      "source": [
        "from sklearn.model_selection import train_test_split\n",
        "from sklearn.ensemble import RandomForestRegressor\n",
        "from sklearn.metrics import mean_squared_error, r2_score\n",
        "import numpy as np\n",
        "import matplotlib.pyplot as plt\n",
        "\n",
        "# Split the dataset into training set and test set\n",
        "X_train, X_test, y_train, y_test = train_test_split(X, y, test_size=0.2, random_state=42)\n",
        "\n",
        "# Create a Random Forest model\n",
        "model = RandomForestRegressor(n_estimators=100, random_state=42)\n",
        "\n",
        "# Train the model\n",
        "model.fit(X_train, y_train)\n",
        "\n",
        "# Make predictions\n",
        "y_pred = model.predict(X_test)\n",
        "\n",
        "# Calculate the root mean squared error of the model\n",
        "rmse = np.sqrt(mean_squared_error(y_test, y_pred))\n",
        "print(f'Root Mean Squared Error: {rmse}')\n",
        "\n",
        "# Calculate the R-squared of the model\n",
        "r2 = r2_score(y_test, y_pred)\n",
        "print(f'R-squared: {r2}')\n",
        "\n",
        "\n",
        "# Print the last 100 actual and predicted values\n",
        "for actual, predicted in list(zip(y_test, y_pred))[-100:]:\n",
        "    print(f'Actual: {actual}, Predicted: {predicted}')\n",
        "\n",
        "# Plot actual vs predicted values\n",
        "plt.figure(figsize=(10,6))\n",
        "plt.scatter(y_test, y_pred)\n",
        "plt.xlabel('Actual Demand')\n",
        "plt.ylabel('Predicted Demand')\n",
        "plt.title('Actual Demand vs Predicted Demand')\n",
        "plt.show()\n"
      ]
    },
    {
      "cell_type": "markdown",
      "metadata": {
        "id": "u_J4YbmPGdf7"
      },
      "source": [
        "2. Support Vector Machine"
      ]
    },
    {
      "cell_type": "code",
      "execution_count": null,
      "metadata": {
        "id": "G1WpyhL0Nqf3"
      },
      "outputs": [],
      "source": [
        "from sklearn.model_selection import train_test_split\n",
        "from sklearn.svm import SVR\n",
        "from sklearn.metrics import mean_squared_error\n",
        "import numpy as np\n",
        "import matplotlib.pyplot as plt\n",
        "\n",
        "# Split the dataset into training set and test set\n",
        "X_train, X_test, y_train, y_test = train_test_split(X, y, test_size=0.2, random_state=42)\n",
        "\n",
        "# Create a SVM model\n",
        "model = SVR(kernel='rbf', C=1.0, epsilon=0.1)\n",
        "\n",
        "# Train the model\n",
        "model.fit(X_train, y_train)\n",
        "\n",
        "# Make predictions\n",
        "y_pred = model.predict(X_test)\n",
        "\n",
        "# Calculate the root mean squared error of the model\n",
        "rmse = np.sqrt(mean_squared_error(y_test, y_pred))\n",
        "print(f'Root Mean Squared Error: {rmse}')\n",
        "\n",
        "# Calculate the R-squared of the model\n",
        "r2 = r2_score(y_test, y_pred)\n",
        "print(f'R-squared: {r2}')\n",
        "\n",
        "# Plot actual vs predicted values\n",
        "plt.figure(figsize=(10,6))\n",
        "plt.scatter(y_test, y_pred)\n",
        "plt.xlabel('Actual Demand')\n",
        "plt.ylabel('Predicted Demand')\n",
        "plt.title('Actual Demand vs Predicted Demand')\n",
        "plt.show()\n",
        "\n",
        "# Print the last 100 actual and predicted values\n",
        "for actual, predicted in list(zip(y_test, y_pred))[-100:]:\n",
        "    print(f'Actual: {actual}, Predicted: {predicted}')"
      ]
    },
    {
      "cell_type": "markdown",
      "metadata": {
        "id": "O1W_iU_TQigV"
      },
      "source": [
        "3. Linear Regression"
      ]
    },
    {
      "cell_type": "code",
      "execution_count": null,
      "metadata": {
        "id": "BSlmxoOaIhUn"
      },
      "outputs": [],
      "source": [
        "from sklearn.model_selection import train_test_split\n",
        "from sklearn.linear_model import LinearRegression\n",
        "from sklearn.metrics import mean_squared_error, r2_score\n",
        "import numpy as np\n",
        "import matplotlib.pyplot as plt\n",
        "\n",
        "# Split the dataset into training set and test set\n",
        "X_train, X_test, y_train, y_test = train_test_split(X, y, test_size=0.2, random_state=42)\n",
        "\n",
        "# Create a Linear Regression model\n",
        "model = LinearRegression()\n",
        "\n",
        "# Train the model\n",
        "model.fit(X_train, y_train)\n",
        "\n",
        "# Make predictions\n",
        "y_pred = model.predict(X_test)\n",
        "\n",
        "# Calculate the root mean squared error of the model\n",
        "rmse = np.sqrt(mean_squared_error(y_test, y_pred))\n",
        "print(f'Root Mean Squared Error: {rmse}')\n",
        "\n",
        "# Calculate the R-squared of the model\n",
        "r2 = r2_score(y_test, y_pred)\n",
        "print(f'R-squared: {r2}')\n",
        "\n",
        "# Plot actual vs predicted values\n",
        "plt.figure(figsize=(10,6))\n",
        "plt.scatter(y_test, y_pred)\n",
        "plt.xlabel('Actual Demand')\n",
        "plt.ylabel('Predicted Demand')\n",
        "plt.title('Actual Demand vs Predicted Demand')\n",
        "plt.show()\n",
        "\n",
        "# Print the last 100 actual and predicted values\n",
        "for actual, predicted in list(zip(y_test, y_pred))[-100:]:\n",
        "    print(f'Actual: {actual}, Predicted: {predicted}')\n"
      ]
    },
    {
      "cell_type": "markdown",
      "metadata": {
        "id": "YkRfzuYegMqv"
      },
      "source": [
        "4. ANN  Model\n"
      ]
    },
    {
      "cell_type": "code",
      "execution_count": null,
      "metadata": {
        "id": "_S3fqNawG_IN"
      },
      "outputs": [],
      "source": [
        "from sklearn.model_selection import train_test_split\n",
        "from keras.models import Sequential\n",
        "from keras.layers import Dense\n",
        "from sklearn.metrics import mean_squared_error\n",
        "import numpy as np\n",
        "import matplotlib.pyplot as plt\n",
        "\n",
        "# Split the dataset into training set and test set\n",
        "X_train, X_test, y_train, y_test = train_test_split(X, y, test_size=0.2, random_state=42)\n",
        "\n",
        "# Create a simple ANN model\n",
        "model = Sequential()\n",
        "model.add(Dense(32, input_dim=X_train.shape[1], activation='relu'))\n",
        "model.add(Dense(16, activation='relu'))\n",
        "model.add(Dense(1))\n",
        "\n",
        "# Compile the model\n",
        "model.compile(loss='mean_squared_error', optimizer='nadam')\n",
        "\n",
        "# Train the model\n",
        "model.fit(X_train, y_train, epochs=100, batch_size=32)\n",
        "\n",
        "# Make predictions\n",
        "y_pred = model.predict(X_test)\n",
        "\n",
        "# Calculate the root mean squared error of the model\n",
        "rmse = np.sqrt(mean_squared_error(y_test, y_pred))\n",
        "print(f'Root Mean Squared Error: {rmse}')\n",
        "\n",
        "# Calculate the R-squared of the model\n",
        "r2 = r2_score(y_test, y_pred)\n",
        "print(f'R-squared: {r2}')\n",
        "\n",
        "\n",
        "# Plot actual vs predicted values\n",
        "plt.figure(figsize=(10,6))\n",
        "plt.scatter(y_test, y_pred)\n",
        "plt.xlabel('Actual Demand')\n",
        "plt.ylabel('Predicted Demand')\n",
        "plt.title('Actual Demand vs Predicted Demand')\n",
        "plt.show()\n",
        "print('Printing the last 100 actual and predicted values')\n",
        "\n",
        "# Print the last 100 actual and predicted values\n",
        "for actual, predicted in list(zip(y_test, y_pred))[-100:]:\n",
        "    print(f'Actual: {actual}, Predicted: {predicted}')\n"
      ]
    }
  ],
  "metadata": {
    "colab": {
      "provenance": []
    },
    "kernelspec": {
      "display_name": "Python 3 (ipykernel)",
      "language": "python",
      "name": "python3"
    },
    "language_info": {
      "codemirror_mode": {
        "name": "ipython",
        "version": 3
      },
      "file_extension": ".py",
      "mimetype": "text/x-python",
      "name": "python",
      "nbconvert_exporter": "python",
      "pygments_lexer": "ipython3",
      "version": "3.12.0"
    }
  },
  "nbformat": 4,
  "nbformat_minor": 0
}
